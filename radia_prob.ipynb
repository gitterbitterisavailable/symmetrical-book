{
 "cells": [
  {
   "cell_type": "code",
   "execution_count": null,
   "metadata": {},
   "outputs": [],
   "source": [
    "import random\n",
    "\n",
    "def estimate_pi(n:int ) -> int:\n",
    "    num_point_circle = 0\n",
    "    num_point_total = 0\n",
    "\n",
    "    for _ in range(n):\n",
    "        x = random.uniform(0,1)\n",
    "        y = random.uniform(0,1)\n",
    "        distance = x**2 + y**2\n",
    "        if distance <= 1:\n",
    "            num_point_circle += 1\n",
    "        num_point_total += 1\n",
    "\n",
    "    return 4*(num_point_circle/num_point_total)\n",
    "\n",
    "print(\"calculate pi using n number of random points in a box\", estimate_pi(1000000))"
   ]
  }
 ],
 "metadata": {
  "language_info": {
   "name": "python"
  },
  "orig_nbformat": 4
 },
 "nbformat": 4,
 "nbformat_minor": 2
}
